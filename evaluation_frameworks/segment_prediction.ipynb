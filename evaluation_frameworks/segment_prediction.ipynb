{
 "cells": [
  {
   "cell_type": "code",
   "execution_count": 6,
   "metadata": {},
   "outputs": [],
   "source": [
    "import torch\n",
    "import torch.nn as nn\n",
    "import torchaudio\n",
    "\n",
    "import math\n",
    "\n",
    "import mne\n",
    "\n",
    "import matplotlib.pyplot as plt\n",
    "\n",
    "import numpy as np\n",
    "\n",
    "from tqdm import tqdm\n",
    "\n",
    "from ignite.metrics import TopKCategoricalAccuracy\n",
    "from ignite.engine import Engine\n",
    "\n",
    "from segment_prediction_dataset import CustomDataset"
   ]
  },
  {
   "cell_type": "code",
   "execution_count": 7,
   "metadata": {},
   "outputs": [],
   "source": [
    "device = torch.device(\"cuda\")"
   ]
  },
  {
   "cell_type": "code",
   "execution_count": 8,
   "metadata": {},
   "outputs": [],
   "source": [
    "# pulled from Dr. Karpathy's minGPT implementation\n",
    "class GELU(nn.Module):\n",
    "    \"\"\"\n",
    "    Implementation of the GELU activation function currently in Google BERT repo (identical to OpenAI GPT).\n",
    "    Reference: Gaussian Error Linear Units (GELU) paper: https://arxiv.org/abs/1606.08415\n",
    "    \"\"\"\n",
    "    def forward(self, x):\n",
    "        return 0.5 * x * (1.0 + torch.tanh(math.sqrt(2.0 / math.pi) * (x + 0.044715 * torch.pow(x, 3.0))))"
   ]
  },
  {
   "cell_type": "code",
   "execution_count": 9,
   "metadata": {},
   "outputs": [],
   "source": [
    "class BrainDecoderBlock(nn.Module):\n",
    "    def __init__(self, k, input_dims=320, skip=True):\n",
    "        super().__init__()\n",
    "\n",
    "        self.skip = skip\n",
    "\n",
    "        self.conv1 = nn.Conv1d(input_dims, 320, kernel_size=3, dilation=2**((2*k)%5), padding=\"same\")\n",
    "        self.conv2 = nn.Conv1d(320, 320, kernel_size=3, dilation=2**((2*k+1)%5), padding=\"same\")\n",
    "        self.conv3 = nn.Conv1d(320, 640, kernel_size=3, dilation=2, padding=\"same\")\n",
    "\n",
    "        self.bnorm1 = nn.BatchNorm1d(320)\n",
    "        self.bnorm2 = nn.BatchNorm1d(320)\n",
    "\n",
    "        self.gelu = GELU()\n",
    "\n",
    "        # channel dim\n",
    "        self.glu = nn.GLU(dim=1)\n",
    "\n",
    "    def forward(self, x):\n",
    "        output = self.conv1(x)\n",
    "        output = self.bnorm1(output)\n",
    "        output = self.gelu(output)\n",
    "\n",
    "        if self.skip:\n",
    "            # channel dim res connection\n",
    "            output = output + x\n",
    "\n",
    "            skip = output\n",
    "\n",
    "        output = self.conv2(output)\n",
    "        output = self.bnorm2(output)\n",
    "        output = self.gelu(output)\n",
    "\n",
    "        if self.skip:\n",
    "            output = output + skip\n",
    "\n",
    "        output = self.conv3(output)\n",
    "        output = self.glu(output)\n",
    "\n",
    "        return output"
   ]
  },
  {
   "cell_type": "code",
   "execution_count": 10,
   "metadata": {},
   "outputs": [],
   "source": [
    "temperatures = []\n",
    "\n",
    "class SpatialAttention(nn.Module):\n",
    "    def __init__(self, in_channels, out_channels, num_harmonics, dropout=0.1):\n",
    "        super().__init__()\n",
    "        # position preprocessing\n",
    "        easycap_montage = mne.channels.read_custom_montage(\"../data/umich/electrode_positions.sfp\")\n",
    "\n",
    "        info = mne.create_info([str(i+1) for i in range(in_channels)], sfreq=500, ch_types=\"eeg\")\n",
    "        info.set_montage(easycap_montage, on_missing=\"ignore\")\n",
    "\n",
    "        layout = mne.channels.find_layout(info)\n",
    "        two_dim_pos = layout.pos[:, :2]\n",
    "\n",
    "        # normalize 0-1\n",
    "        two_dim_pos[:, 0] -= min(two_dim_pos[:, 0])\n",
    "        two_dim_pos[:, 1] -= min(two_dim_pos[:, 1])\n",
    "\n",
    "        two_dim_pos[:, 0] /= max(two_dim_pos[:, 0])\n",
    "        two_dim_pos[:, 1] /= max(two_dim_pos[:, 1])\n",
    "\n",
    "        self.input_channels = torch.tensor(two_dim_pos)\n",
    "        \n",
    "        # spatial attention calculation params\n",
    "\n",
    "        self.z_trainable = torch.randn((out_channels, num_harmonics, num_harmonics), dtype=torch.cfloat)\n",
    "        self.z_trainable = torch.nn.parameter.Parameter(torch.transpose(self.z_trainable.view(1, out_channels, num_harmonics, num_harmonics).repeat(in_channels, 1, 1, 1), 0, 1))\n",
    "\n",
    "        self.k = self.l = torch.linspace(1, num_harmonics, num_harmonics).repeat(in_channels, num_harmonics, 1)\n",
    "\n",
    "        # other stuff\n",
    "        self.conv1 = nn.Conv1d(in_channels, out_channels, kernel_size=1)\n",
    "\n",
    "        self.softmax = nn.Softmax(dim=0)\n",
    "\n",
    "        self.dropout = nn.Dropout(dropout)\n",
    "    \n",
    "    def _apply(self, fn):\n",
    "        super(SpatialAttention, self)._apply(fn)\n",
    "\n",
    "        self.k = fn(self.k)\n",
    "        self.l = fn(self.l)\n",
    "        self.input_channels = fn(self.input_channels)\n",
    "\n",
    "        return self\n",
    "\n",
    "    def forward(self, x):\n",
    "        # x dims - batch_size, C, T\n",
    "\n",
    "        term_1 = torch.transpose(torch.cos(2 * np.pi * (self.k * self.input_channels[:, 0].view(-1, 1, 1) + torch.transpose(self.l, 1, -1) * self.input_channels[:, 1].view(1, -1, 1, 1))), 2, 3)\n",
    "        term_2 = torch.transpose(torch.sin(2 * np.pi * (self.k * self.input_channels[:, 0].view(-1, 1, 1) + torch.transpose(self.l, 1, -1) * self.input_channels[:, 1].view(1, -1, 1, 1))), 2, 3)\n",
    "\n",
    "        a_j = torch.sum(self.z_trainable.real * term_1 + self.z_trainable.imag * term_2, dim=(1, 2, 3)).repeat(x.shape[0], 1).view(x.shape[0], -1, 1)\n",
    "\n",
    "        output = self.conv1(x)\n",
    "\n",
    "        output = self.dropout(self.softmax(a_j)) * output\n",
    "\n",
    "        return output.type(torch.float32)"
   ]
  },
  {
   "cell_type": "code",
   "execution_count": 7,
   "metadata": {},
   "outputs": [],
   "source": [
    "class BrainDecoder(nn.Module):\n",
    "    def __init__(self, input_channels, num_k, num_freq_bands, num_subjects):\n",
    "        super().__init__()\n",
    "\n",
    "        self.spatial_attention = SpatialAttention(input_channels, 270, 32, 0.1)\n",
    "\n",
    "        self.conv1 = nn.Conv1d(270, 270, kernel_size=1)\n",
    "\n",
    "        self.subject_layers = []\n",
    "        for i in range(num_subjects):\n",
    "            self.subject_layers += [nn.Conv1d(270, 270, kernel_size=1)]\n",
    "        self.subject_layers = nn.ModuleList(self.subject_layers)\n",
    "\n",
    "        self.decoder_blocks = []\n",
    "\n",
    "        for i in range(num_k):\n",
    "            if i == 0:\n",
    "                self.decoder_blocks += [BrainDecoderBlock(i+1, 270, False)]\n",
    "            else:\n",
    "                self.decoder_blocks += [BrainDecoderBlock(i+1, 320, True)]\n",
    "\n",
    "        self.decoder_blocks = nn.ModuleList(self.decoder_blocks)\n",
    "\n",
    "        self.conv2 = nn.Conv1d(320, 640, kernel_size=1)\n",
    "        self.final_conv = nn.Conv1d(640, num_freq_bands, kernel_size=1)\n",
    "\n",
    "    def forward(self, x, subject_num):\n",
    "        output = self.spatial_attention(x)\n",
    "\n",
    "        output = self.conv1(output)\n",
    "\n",
    "        final_output = torch.zeros_like(output)\n",
    "\n",
    "        for _, i in enumerate(subject_num):\n",
    "            final_output[_] = self.subject_layers[int(i)](output[_])\n",
    "\n",
    "        for block in self.decoder_blocks:\n",
    "            final_output = block(final_output)\n",
    "        \n",
    "        final_output = self.conv2(final_output)\n",
    "        final_output = self.final_conv(final_output)\n",
    "\n",
    "        return final_output"
   ]
  },
  {
   "cell_type": "code",
   "execution_count": 8,
   "metadata": {},
   "outputs": [],
   "source": [
    "num_subjects = 49\n",
    "T_out = 49"
   ]
  },
  {
   "cell_type": "code",
   "execution_count": 9,
   "metadata": {},
   "outputs": [
    {
     "name": "stderr",
     "output_type": "stream",
     "text": [
      "Downloading: \"https://download.pytorch.org/torchaudio/models/wav2vec2_fairseq_large_xlsr53.pth\" to /home/kashyap/.cache/torch/hub/checkpoints/wav2vec2_fairseq_large_xlsr53.pth\n",
      "100%|██████████| 1.18G/1.18G [00:23<00:00, 52.8MB/s]\n"
     ]
    }
   ],
   "source": [
    "bundle = torchaudio.pipelines.WAV2VEC2_XLSR53\n",
    "wave2vec = bundle.get_model().to(device)"
   ]
  },
  {
   "cell_type": "code",
   "execution_count": 10,
   "metadata": {},
   "outputs": [
    {
     "name": "stderr",
     "output_type": "stream",
     "text": [
      "100%|██████████| 49/49 [02:13<00:00,  2.72s/it]\n"
     ]
    },
    {
     "name": "stdout",
     "output_type": "stream",
     "text": [
      "Brain data shape: torch.Size([7986, 61, 49])\n",
      "Waveform shape: torch.Size([23859, 16000])\n",
      "Subject num shape: torch.Size([7986])\n",
      "Audio sampling rate (Hz): 16000\n",
      "Brain data sampling rate (Hz): 500\n"
     ]
    }
   ],
   "source": [
    "batch_size = 1\n",
    "\n",
    "exclude = [2, 7, 9, 23, 24, 27, 28, 29, 30, 31, 32, 33, 43, 46, 47, 49]\n",
    "\n",
    "dataset = CustomDataset(data_dir=\"../data/umich\", T_out=T_out, num_subjects=num_subjects, exclude=exclude)\n",
    "\n",
    "train_set = torch.utils.data.Subset(dataset, range(int(len(dataset) * 0.8)))\n",
    "val_set = torch.utils.data.Subset(dataset, range(int(len(dataset) * 0.8), int(len(dataset))))\n",
    "\n",
    "train_loader = torch.utils.data.DataLoader(train_set, batch_size=batch_size, shuffle=True)\n",
    "val_loader = torch.utils.data.DataLoader(val_set, batch_size=batch_size, shuffle=True)"
   ]
  },
  {
   "cell_type": "code",
   "execution_count": 10,
   "metadata": {},
   "outputs": [],
   "source": [
    "class CLIP(nn.Module):\n",
    "    def __init__(self):\n",
    "        super().__init__()\n",
    "        \n",
    "        self.temperature = torch.nn.parameter.Parameter(torch.randn(1, dtype=torch.float32))\n",
    "\n",
    "        self.cross_entropy = nn.CrossEntropyLoss()\n",
    "\n",
    "    def forward(self, brain_latents, audio_latents, save_temp=False):\n",
    "        # dims = batch_size, frequency_dim, temporal_dim\n",
    "        brain_latents = brain_latents.reshape((brain_latents.shape[0], -1)) # [batch_size, frequency_dim * temporal_dim]\n",
    "        # dims = batch_size, frequency_dim, temporal_dim\n",
    "        audio_latents = audio_latents.reshape((audio_latents.shape[0], -1)) # [batch_size, frequency_dim * temporal_dim]\n",
    "\n",
    "        logits = brain_latents @ audio_latents.T\n",
    "        logits_T = logits.T\n",
    "\n",
    "        labels = torch.arange(brain_latents.shape[0]).to(device)\n",
    "\n",
    "        # exponentiate and clip to max 100\n",
    "        exponentiated_temperature = torch.exp(self.temperature)\n",
    "        if exponentiated_temperature > 100: exponentiated_temperature = 100\n",
    "\n",
    "        loss = ((self.cross_entropy(logits, labels) + self.cross_entropy(logits_T, labels)) / 2) / exponentiated_temperature\n",
    "        \n",
    "        return loss"
   ]
  },
  {
   "cell_type": "code",
   "execution_count": 53,
   "metadata": {},
   "outputs": [
    {
     "name": "stderr",
     "output_type": "stream",
     "text": [
      "/tmp/ipykernel_3778/1247067156.py:8: RuntimeWarning: Fiducial point nasion not found, assuming identity unknown to head transformation\n",
      "  info.set_montage(easycap_montage, on_missing=\"ignore\")\n"
     ]
    },
    {
     "data": {
      "text/plain": [
       "torch.Size([32, 768, 149])"
      ]
     },
     "execution_count": 53,
     "metadata": {},
     "output_type": "execute_result"
    }
   ],
   "source": [
    "C = 61\n",
    "F = 768\n",
    "\n",
    "# brain_decoder = torch.load(\"../saved_models/june_6_run_1_brain_decoder\")\n",
    "brain_decoder = BrainDecoder(input_channels=C, num_k=5, num_freq_bands=F, num_subjects=num_subjects)\n",
    "brain_decoder.to(device)\n",
    "\n",
    "# clip = torch.load(\"../saved_models/june_6_run_2_clip\")\n",
    "# clip.to(device)\n",
    "\n",
    "# batch_size, C, T\n",
    "test_data = torch.randn((32, C, T_out))\n",
    "\n",
    "# expected output dims: batch_size, F, T_out\n",
    "output = brain_decoder(test_data.to(device), torch.zeros((32)))\n",
    "output.shape"
   ]
  },
  {
   "cell_type": "code",
   "execution_count": 54,
   "metadata": {},
   "outputs": [],
   "source": [
    "# regression loss\n",
    "regression_loss = nn.MSELoss()"
   ]
  },
  {
   "cell_type": "code",
   "execution_count": 35,
   "metadata": {},
   "outputs": [
    {
     "name": "stderr",
     "output_type": "stream",
     "text": [
      "  0%|          | 0/1591 [00:00<?, ?it/s]"
     ]
    },
    {
     "name": "stderr",
     "output_type": "stream",
     "text": [
      "100%|██████████| 1591/1591 [00:08<00:00, 177.39it/s]\n"
     ]
    }
   ],
   "source": [
    "targets = []\n",
    "\n",
    "for (brain_data, audio_data, subject_num) in tqdm(val_loader):\n",
    "    audio_data = audio_data.to(device).type(torch.float32)\n",
    "\n",
    "    # wave2vec processing\n",
    "    with torch.inference_mode():\n",
    "        features, _ = wave2vec.extract_features(audio_data)\n",
    "\n",
    "    # pull from last 4 layers\n",
    "    semantic_features = (features[11] + features[10] + features[9] + features[8]) / 4    # dims -> batch_size, T, F\n",
    "    semantic_features = torch.transpose(semantic_features, 1, 2)\n",
    "\n",
    "    targets += [semantic_features]"
   ]
  },
  {
   "cell_type": "code",
   "execution_count": 55,
   "metadata": {},
   "outputs": [],
   "source": [
    "def process_function(engine, batch):\n",
    "    y_pred, y = batch\n",
    "    \n",
    "    return y_pred, y\n",
    "\n",
    "def one_hot_to_output_transform(output):\n",
    "    y_pred, y = output\n",
    "    y = torch.argmax(y, dim=1)  # one-hot vector to label index vector\n",
    "\n",
    "    return y_pred, y\n",
    "\n",
    "engine = Engine(process_function)\n",
    "metric = TopKCategoricalAccuracy(k=10, output_transform=one_hot_to_output_transform)\n",
    "metric.attach(engine, 'top_k_accuracy')"
   ]
  },
  {
   "cell_type": "code",
   "execution_count": 56,
   "metadata": {},
   "outputs": [
    {
     "name": "stderr",
     "output_type": "stream",
     "text": [
      "1591it [02:35, 10.22it/s]"
     ]
    },
    {
     "name": "stdout",
     "output_type": "stream",
     "text": [
      "Accuracy: 0.6285355122564426\n"
     ]
    },
    {
     "name": "stderr",
     "output_type": "stream",
     "text": [
      "\n"
     ]
    }
   ],
   "source": [
    "brain_decoder.eval()\n",
    "# clip.eval()\n",
    "\n",
    "accuracies = []\n",
    "\n",
    "for _, (brain_data, audio_data, subject_num) in tqdm(enumerate(val_loader)):\n",
    "    brain_data = brain_data.to(device).type(torch.float32)\n",
    "\n",
    "    # brain decoder processing\n",
    "    brain_output = brain_decoder(brain_data, subject_num)\n",
    "\n",
    "    losses = None\n",
    "    for target in targets:\n",
    "        if losses == None:\n",
    "            losses = regression_loss(brain_output, target)\n",
    "        else:\n",
    "            losses = torch.vstack((losses, regression_loss(brain_output, target)))\n",
    "\n",
    "    output_index = torch.argmin(losses)\n",
    "\n",
    "    predicted = torch.zeros((1, len(targets)))\n",
    "    predicted[0, output_index] = 1\n",
    "\n",
    "    target_outputs = torch.zeros((1, len(val_loader)))\n",
    "    target_outputs[0, _] = 1\n",
    "\n",
    "    state = engine.run([[predicted, target_outputs]])\n",
    "    accuracies += [state.metrics['top_k_accuracy']]\n",
    "\n",
    "print(\"Accuracy: \" + str(np.mean(accuracies) * 100))"
   ]
  },
  {
   "cell_type": "code",
   "execution_count": 57,
   "metadata": {},
   "outputs": [
    {
     "name": "stdout",
     "output_type": "stream",
     "text": [
      "Accuracy: 0.6285355122564426\n"
     ]
    }
   ],
   "source": [
    "print(\"Accuracy: \" + str(np.mean(accuracies) * 100))"
   ]
  }
 ],
 "metadata": {
  "kernelspec": {
   "display_name": "env",
   "language": "python",
   "name": "python3"
  },
  "language_info": {
   "codemirror_mode": {
    "name": "ipython",
    "version": 3
   },
   "file_extension": ".py",
   "mimetype": "text/x-python",
   "name": "python",
   "nbconvert_exporter": "python",
   "pygments_lexer": "ipython3",
   "version": "3.9.16"
  },
  "orig_nbformat": 4
 },
 "nbformat": 4,
 "nbformat_minor": 2
}
